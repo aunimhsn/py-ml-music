{
 "cells": [
  {
   "cell_type": "code",
   "execution_count": 21,
   "metadata": {},
   "outputs": [],
   "source": [
    "import pandas as pd\n",
    "from sklearn.tree import DecisionTreeClassifier, export_graphviz\n",
    "import joblib\n",
    "\n",
    "df = pd.read_csv('./data/car_purchase.csv')\n",
    "\n",
    "df['gender'] = df['gender'].replace('Male', 1)\n",
    "df['gender'] = df['gender'].replace('Female', 0)\n",
    "\n",
    "X = df[['gender', 'age', 'annual_salary']]\n",
    "y = df['purchased']\n",
    "\n",
    "model = DecisionTreeClassifier()\n",
    "model.fit(X.values, y.values)\n",
    "\n",
    "# joblib.dump(model, 'car_purchase.joblib')\n",
    "\n",
    "\n",
    "\n",
    "export_graphviz(\n",
    "    model,\n",
    "    out_file='car_purchase.dot',\n",
    "    feature_names=['gender', 'age', 'annual_salary'],\n",
    "    class_names=[str(elem) for elem in y.unique()],\n",
    "    label='all',\n",
    "    filled=True\n",
    ")\n",
    "\n"
   ]
  }
 ],
 "metadata": {
  "kernelspec": {
   "display_name": "ml-venv",
   "language": "python",
   "name": "python3"
  },
  "language_info": {
   "codemirror_mode": {
    "name": "ipython",
    "version": 3
   },
   "file_extension": ".py",
   "mimetype": "text/x-python",
   "name": "python",
   "nbconvert_exporter": "python",
   "pygments_lexer": "ipython3",
   "version": "3.12.0"
  }
 },
 "nbformat": 4,
 "nbformat_minor": 2
}
